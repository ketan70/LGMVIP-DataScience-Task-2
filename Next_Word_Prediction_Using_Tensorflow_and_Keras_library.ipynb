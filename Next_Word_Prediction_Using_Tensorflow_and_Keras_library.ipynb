{
  "cells": [
    {
      "cell_type": "markdown",
      "metadata": {
        "id": "view-in-github",
        "colab_type": "text"
      },
      "source": [
        "<a href=\"https://colab.research.google.com/github/ketan70/LGMVIP-DataScience-Task-2/blob/main/Next_Word_Prediction_Using_Tensorflow_and_Keras_library.ipynb\" target=\"_parent\"><img src=\"https://colab.research.google.com/assets/colab-badge.svg\" alt=\"Open In Colab\"/></a>"
      ]
    },
    {
      "cell_type": "markdown",
      "source": [
        "# Task - Next Word Prediction:Using Tensorflow and Keras library"
      ],
      "metadata": {
        "id": "PoAxlSlJcABZ"
      },
      "id": "PoAxlSlJcABZ"
    },
    {
      "cell_type": "markdown",
      "source": [
        "## ketan sandbhor"
      ],
      "metadata": {
        "id": "PJbNzVCHdPGb"
      },
      "id": "PJbNzVCHdPGb"
    },
    {
      "cell_type": "markdown",
      "source": [
        "First we import Tensorflow , keras and all import all  necessary libraries"
      ],
      "metadata": {
        "id": "HMR2MmXvdUp7"
      },
      "id": "HMR2MmXvdUp7"
    },
    {
      "cell_type": "code",
      "execution_count": null,
      "id": "c6b2866e",
      "metadata": {
        "id": "c6b2866e"
      },
      "outputs": [],
      "source": [
        "import numpy as np\n",
        "\n",
        "from nltk. tokenize import RegexpTokenizer \n",
        "from keras.models import Sequential, load_model \n",
        "from keras.layers import LSTM\n",
        "from keras.layers.core import Dense, Activation \n",
        "from tensorflow.keras.optimizers import RMSprop\n",
        "import matplotlib.pyplot as plt \n",
        "import pickle\n",
        "import heapq"
      ]
    },
    {
      "cell_type": "markdown",
      "source": [
        "load the datasets txt in it"
      ],
      "metadata": {
        "id": "N9Uy9FdKjxl_"
      },
      "id": "N9Uy9FdKjxl_"
    },
    {
      "cell_type": "code",
      "execution_count": null,
      "id": "60168802",
      "metadata": {
        "colab": {
          "base_uri": "https://localhost:8080/"
        },
        "id": "60168802",
        "outputId": "9c2227ca-202d-47fa-dc9b-67c9ed359dc8"
      },
      "outputs": [
        {
          "output_type": "stream",
          "name": "stdout",
          "text": [
            "corpus length: 581888\n"
          ]
        }
      ],
      "source": [
        "path = r'1661-0.txt'\n",
        "text = open(path, encoding='utf-8').read().lower() \n",
        "print('corpus length:', len(text))"
      ]
    },
    {
      "cell_type": "markdown",
      "source": [
        "slipt the dataset into the each word"
      ],
      "metadata": {
        "id": "nSyvoq1Jj7eW"
      },
      "id": "nSyvoq1Jj7eW"
    },
    {
      "cell_type": "code",
      "execution_count": null,
      "id": "7cbfac59",
      "metadata": {
        "id": "7cbfac59"
      },
      "outputs": [],
      "source": [
        "tokenizer = RegexpTokenizer(r'\\w+')\n",
        "words = tokenizer.tokenize(text)"
      ]
    },
    {
      "cell_type": "markdown",
      "source": [
        "word are shoted by unique"
      ],
      "metadata": {
        "id": "mmNTQzxVkvLA"
      },
      "id": "mmNTQzxVkvLA"
    },
    {
      "cell_type": "code",
      "execution_count": null,
      "id": "b659d314",
      "metadata": {
        "id": "b659d314"
      },
      "outputs": [],
      "source": [
        "unique_words = np.unique(words)\n",
        "unique_word_index = dict((c, i) for i, c in enumerate(unique_words))"
      ]
    },
    {
      "cell_type": "markdown",
      "source": [
        "here we use the feature engineering "
      ],
      "metadata": {
        "id": "dOaFPEWYk33W"
      },
      "id": "dOaFPEWYk33W"
    },
    {
      "cell_type": "code",
      "execution_count": null,
      "id": "6194556e",
      "metadata": {
        "colab": {
          "base_uri": "https://localhost:8080/"
        },
        "id": "6194556e",
        "outputId": "4914928d-8ba9-49b3-bdb3-6c3139c19c76"
      },
      "outputs": [
        {
          "output_type": "stream",
          "name": "stdout",
          "text": [
            "['project', 'gutenberg', 's', 'the', 'adventures']\n",
            "of\n"
          ]
        }
      ],
      "source": [
        "WORD_LENGTH= 5\n",
        "prev_words = [] \n",
        "next_words = []\n",
        "for i in range(len (words) - WORD_LENGTH):\n",
        "    prev_words.append(words[i:i + WORD_LENGTH])\n",
        "    next_words.append(words[i + WORD_LENGTH])\n",
        "\n",
        "print(prev_words[0]) \n",
        "print(next_words[0])"
      ]
    },
    {
      "cell_type": "markdown",
      "source": [
        "Split the data into the x And y"
      ],
      "metadata": {
        "id": "WQob7AHRlBb6"
      },
      "id": "WQob7AHRlBb6"
    },
    {
      "cell_type": "code",
      "execution_count": null,
      "id": "0283f8d3",
      "metadata": {
        "id": "0283f8d3"
      },
      "outputs": [],
      "source": [
        "X = np.zeros((len(prev_words), WORD_LENGTH, len(unique_words)), dtype=bool)\n",
        "Y = np.zeros((len (next_words), len(unique_words)), dtype=bool)\n",
        "for i, each_words in enumerate(prev_words):\n",
        "    for j, each_word in enumerate(each_words):\n",
        "        X[i, j, unique_word_index[each_word]] = 1\n",
        "    Y[i, unique_word_index[next_words[i]]] = 1"
      ]
    },
    {
      "cell_type": "markdown",
      "source": [
        "Know we see the on example of the x"
      ],
      "metadata": {
        "id": "Xffq6BaklOge"
      },
      "id": "Xffq6BaklOge"
    },
    {
      "cell_type": "code",
      "execution_count": null,
      "id": "1ccbc6e0",
      "metadata": {
        "colab": {
          "base_uri": "https://localhost:8080/"
        },
        "id": "1ccbc6e0",
        "outputId": "418f3a48-6bb9-4a78-8e43-d2679793cbed"
      },
      "outputs": [
        {
          "output_type": "stream",
          "name": "stdout",
          "text": [
            "[False False False ... False False False]\n"
          ]
        }
      ],
      "source": [
        "print(X[0][0])"
      ]
    },
    {
      "cell_type": "markdown",
      "source": [
        "Now we will create our Model for Next Word Prediction"
      ],
      "metadata": {
        "id": "8xWaYR6RlYWe"
      },
      "id": "8xWaYR6RlYWe"
    },
    {
      "cell_type": "code",
      "execution_count": null,
      "id": "13156e45",
      "metadata": {
        "id": "13156e45"
      },
      "outputs": [],
      "source": [
        "model = Sequential()\n",
        "model.add(LSTM(128, input_shape=(WORD_LENGTH, len(unique_words))))\n",
        "model.add(Dense(len(unique_words),activation='relu'))\n",
        "model.add(Activation ('softmax'))"
      ]
    },
    {
      "cell_type": "markdown",
      "source": [
        " fit the Model for training it"
      ],
      "metadata": {
        "id": "4vPtlTXWmG6A"
      },
      "id": "4vPtlTXWmG6A"
    },
    {
      "cell_type": "code",
      "execution_count": null,
      "id": "7cb33b10",
      "metadata": {
        "colab": {
          "base_uri": "https://localhost:8080/"
        },
        "id": "7cb33b10",
        "outputId": "a32a661d-5194-46c3-e87e-76e3bab1e1bd"
      },
      "outputs": [
        {
          "output_type": "stream",
          "name": "stderr",
          "text": [
            "/usr/local/lib/python3.7/dist-packages/keras/optimizer_v2/rmsprop.py:130: UserWarning: The `lr` argument is deprecated, use `learning_rate` instead.\n",
            "  super(RMSprop, self).__init__(name, **kwargs)\n"
          ]
        },
        {
          "output_type": "stream",
          "name": "stdout",
          "text": [
            "Epoch 1/2\n",
            "811/811 [==============================] - 32s 32ms/step - loss: 7.9685 - accuracy: 0.0651 - val_loss: 8.1806 - val_accuracy: 0.0518\n",
            "Epoch 2/2\n",
            "811/811 [==============================] - 24s 29ms/step - loss: 7.8653 - accuracy: 0.0871 - val_loss: 8.1886 - val_accuracy: 0.0683\n"
          ]
        }
      ],
      "source": [
        "optimizer = RMSprop(lr = 0.01) \n",
        "model.compile(loss = 'categorical_crossentropy', optimizer = optimizer, metrics=['accuracy'])\n",
        "history = model.fit(X, Y, validation_split=0.05, batch_size=128, epochs=2, shuffle=True).history"
      ]
    },
    {
      "cell_type": "markdown",
      "source": [
        "Here we just save the model "
      ],
      "metadata": {
        "id": "oIQgCayGmQFO"
      },
      "id": "oIQgCayGmQFO"
    },
    {
      "cell_type": "code",
      "execution_count": null,
      "id": "d0ecb049",
      "metadata": {
        "id": "d0ecb049"
      },
      "outputs": [],
      "source": [
        "model.save('keras_next_word_model.h5') \n",
        "pickle.dump(history, open(\"history.p\", \"wb\")) \n",
        "model = load_model('keras_next_word_model.h5') \n",
        "history = pickle.load(open(\"history.p\", \"rb\"))"
      ]
    },
    {
      "cell_type": "markdown",
      "source": [
        "Now we test the data and predict the word"
      ],
      "metadata": {
        "id": "csJ9UKlcmn6-"
      },
      "id": "csJ9UKlcmn6-"
    },
    {
      "cell_type": "code",
      "execution_count": null,
      "id": "1f849a8a",
      "metadata": {
        "colab": {
          "base_uri": "https://localhost:8080/"
        },
        "id": "1f849a8a",
        "outputId": "a3383faa-62d7-4b00-b09e-2d3b8b25a92c"
      },
      "outputs": [
        {
          "output_type": "stream",
          "name": "stdout",
          "text": [
            "it\n"
          ]
        },
        {
          "output_type": "execute_result",
          "data": {
            "text/plain": [
              "array([[[0., 0., 0., ..., 0., 0., 0.],\n",
              "        [0., 0., 0., ..., 0., 0., 0.],\n",
              "        [0., 0., 0., ..., 0., 0., 0.],\n",
              "        [0., 0., 0., ..., 0., 0., 0.],\n",
              "        [0., 0., 0., ..., 0., 0., 0.]]])"
            ]
          },
          "metadata": {},
          "execution_count": 11
        }
      ],
      "source": [
        "def prepare_input(text):\n",
        "    x = np.zeros((1, WORD_LENGTH, len(unique_words))) \n",
        "    for t, word in enumerate(text.split()):\n",
        "        print (word)\n",
        "        x[0, t, unique_word_index[word]] = 1\n",
        "        return x \n",
        "prepare_input(\"It is not a lack\".lower())"
      ]
    },
    {
      "cell_type": "markdown",
      "source": [
        "seleting the brst possible word "
      ],
      "metadata": {
        "id": "TRWivbn5m5tG"
      },
      "id": "TRWivbn5m5tG"
    },
    {
      "cell_type": "code",
      "execution_count": null,
      "id": "c959ff64",
      "metadata": {
        "id": "c959ff64"
      },
      "outputs": [],
      "source": [
        "def sample(preds, top_n = 3):\n",
        "    preds= np.asarray(preds).astype('float64') \n",
        "    preds= np.log(preds)\n",
        "    exp_preds= np.exp(preds) \n",
        "    preds= exp_preds/np.sum(exp_preds) \n",
        "    return heapq.nlargest(top_n, range(len(preds)), preds.take)"
      ]
    },
    {
      "cell_type": "markdown",
      "source": [
        "predict function"
      ],
      "metadata": {
        "id": "qM_dav-CnNJ0"
      },
      "id": "qM_dav-CnNJ0"
    },
    {
      "cell_type": "code",
      "execution_count": null,
      "id": "cae8c801",
      "metadata": {
        "id": "cae8c801"
      },
      "outputs": [],
      "source": [
        "def predict_completions(text, n=3):\n",
        "    if text == \"\":\n",
        "        return(\"\")\n",
        "    x = prepare_input(text) \n",
        "    preds = model.predict(x, verbose=0)[0]\n",
        "    next_indices = sample(preds, n)\n",
        "    return [unique_words[idx] for idx in next_indices]"
      ]
    },
    {
      "cell_type": "code",
      "execution_count": null,
      "id": "ed436968",
      "metadata": {
        "colab": {
          "base_uri": "https://localhost:8080/"
        },
        "id": "ed436968",
        "outputId": "5c85f969-cb78-4c55-c139-0e6ed31bb8b1"
      },
      "outputs": [
        {
          "output_type": "stream",
          "name": "stdout",
          "text": [
            "correct sentence:  Light the candle instead of cursuing darkness\n",
            "Sequence:  light the candle instead of\n",
            "light\n",
            "next possible words:  ['to', 'in', 'the', 'i', 'with']\n"
          ]
        }
      ],
      "source": [
        "q = \"Light the candle instead of cursuing darkness\" \n",
        "print(\"correct sentence: \",q) \n",
        "seq = \" \".join(tokenizer.tokenize(q.lower())[0:5]) \n",
        "print(\"Sequence: \",seq) \n",
        "print(\"next possible words: \", predict_completions(seq, 5))"
      ]
    },
    {
      "cell_type": "markdown",
      "source": [
        ""
      ],
      "metadata": {
        "id": "gBzV1EUaoCXd"
      },
      "id": "gBzV1EUaoCXd"
    },
    {
      "cell_type": "markdown",
      "source": [
        "# Thank you "
      ],
      "metadata": {
        "id": "Ic3VwJiFoG5h"
      },
      "id": "Ic3VwJiFoG5h"
    }
  ],
  "metadata": {
    "kernelspec": {
      "display_name": "Python 3",
      "language": "python",
      "name": "python3"
    },
    "language_info": {
      "codemirror_mode": {
        "name": "ipython",
        "version": 3
      },
      "file_extension": ".py",
      "mimetype": "text/x-python",
      "name": "python",
      "nbconvert_exporter": "python",
      "pygments_lexer": "ipython3",
      "version": "3.8.8"
    },
    "colab": {
      "name": "Next Word Prediction:  Using Tensorflow and Keras library.ipynb",
      "provenance": [],
      "collapsed_sections": [],
      "include_colab_link": true
    },
    "accelerator": "GPU"
  },
  "nbformat": 4,
  "nbformat_minor": 5
}